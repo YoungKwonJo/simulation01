{
 "cells": [
  {
   "cell_type": "code",
   "execution_count": 4,
   "metadata": {},
   "outputs": [],
   "source": [
    "## git clone https://github.com/CSSEGISandData/COVID-19.git\n"
   ]
  },
  {
   "cell_type": "code",
   "execution_count": 16,
   "metadata": {},
   "outputs": [],
   "source": [
    "path = \"../COVID-19/csse_covid_19_data/csse_covid_19_time_series/\""
   ]
  },
  {
   "cell_type": "code",
   "execution_count": 17,
   "metadata": {},
   "outputs": [],
   "source": [
    "d1 = \"time_series_covid19_confirmed_global.csv\"\n",
    "d2 = \"time_series_covid19_deaths_global.csv\"\n",
    "d3 = \"time_series_covid19_recovered_global.csv\"\n",
    "\n",
    "\n"
   ]
  },
  {
   "cell_type": "code",
   "execution_count": 18,
   "metadata": {},
   "outputs": [],
   "source": [
    "import pandas as pd"
   ]
  },
  {
   "cell_type": "code",
   "execution_count": 19,
   "metadata": {},
   "outputs": [],
   "source": [
    "dd1 = pd.read_csv(path+d2)"
   ]
  },
  {
   "cell_type": "code",
   "execution_count": 20,
   "metadata": {},
   "outputs": [
    {
     "data": {
      "text/plain": [
       "Province/State     object\n",
       "Country/Region     object\n",
       "Lat               float64\n",
       "Long              float64\n",
       "1/22/20             int64\n",
       "                   ...   \n",
       "3/27/20             int64\n",
       "3/28/20             int64\n",
       "3/29/20             int64\n",
       "3/30/20             int64\n",
       "3/31/20             int64\n",
       "Length: 74, dtype: object"
      ]
     },
     "execution_count": 20,
     "metadata": {},
     "output_type": "execute_result"
    }
   ],
   "source": [
    "dd1.dtypes"
   ]
  },
  {
   "cell_type": "code",
   "execution_count": 21,
   "metadata": {},
   "outputs": [],
   "source": [
    "country = []\n",
    "for i in dd1['Country/Region'].drop_duplicates():\n",
    "    country.append(i)\n",
    "    \n",
    "dateparse = lambda x: pd.datetime.strptime(x, '%m/%d/%y')\n"
   ]
  },
  {
   "cell_type": "code",
   "execution_count": null,
   "metadata": {},
   "outputs": [],
   "source": []
  },
  {
   "cell_type": "code",
   "execution_count": 22,
   "metadata": {},
   "outputs": [],
   "source": [
    "import json\n",
    "\n",
    "with open(\"population_202004010609.json\",\"r\") as f:\n",
    "    dd = json.loads(f.read())\n"
   ]
  },
  {
   "cell_type": "code",
   "execution_count": 23,
   "metadata": {},
   "outputs": [],
   "source": [
    "dd['Korea, South'] = dd['South Korea']\n",
    "dd['US'] = dd['United States']\n",
    "dd['Czechia'] = dd['Czech Republic (Czechia)']\n",
    "dd['Taiwan*'] = dd['Taiwan']\n",
    "dd['Brunei'] = dd['Brunei ']\n",
    "\n",
    "dd[\"Cote d'Ivoire\"] = dd[\"Côte d'Ivoire\"]\n"
   ]
  },
  {
   "cell_type": "code",
   "execution_count": 24,
   "metadata": {},
   "outputs": [
    {
     "name": "stderr",
     "output_type": "stream",
     "text": [
      "/usr/local/lib/python3.6/dist-packages/ipykernel_launcher.py:2: SettingWithCopyWarning: \n",
      "A value is trying to be set on a copy of a slice from a DataFrame\n",
      "\n",
      "See the caveats in the documentation: https://pandas.pydata.org/pandas-docs/stable/user_guide/indexing.html#returning-a-view-versus-a-copy\n",
      "  \n",
      "/usr/local/lib/python3.6/dist-packages/ipykernel_launcher.py:7: SettingWithCopyWarning: \n",
      "A value is trying to be set on a copy of a slice from a DataFrame.\n",
      "Try using .loc[row_indexer,col_indexer] = value instead\n",
      "\n",
      "See the caveats in the documentation: https://pandas.pydata.org/pandas-docs/stable/user_guide/indexing.html#returning-a-view-versus-a-copy\n",
      "  import sys\n",
      "/usr/local/lib/python3.6/dist-packages/ipykernel_launcher.py:11: SettingWithCopyWarning: \n",
      "A value is trying to be set on a copy of a slice from a DataFrame.\n",
      "Try using .loc[row_indexer,col_indexer] = value instead\n",
      "\n",
      "See the caveats in the documentation: https://pandas.pydata.org/pandas-docs/stable/user_guide/indexing.html#returning-a-view-versus-a-copy\n",
      "  # This is added back by InteractiveShellApp.init_path()\n"
     ]
    }
   ],
   "source": [
    "df_0 = dd1.loc[lambda df: df['Country/Region'] == country[0]]\n",
    "df_0.loc['value', :] = df_0.sum()\n",
    "data = df_0.T[4:]\n",
    "data_0 = data #.loc[lambda df: df[country[0]] >100]\n",
    "\n",
    "data_0 = data_0.loc[lambda df: df['value'] >100]\n",
    "data_0[country[0]] = data['value']/int(dd[country[0]])\n",
    "\n",
    "#data_0 = data.loc[lambda df: df[country[0]] >10**-6]\n",
    "#data_0['date'] = [ dateparse(i) for i in data_0.index ]\n",
    "data_0['day'] = [ i for i,ii in enumerate(data_0.index) ]"
   ]
  },
  {
   "cell_type": "code",
   "execution_count": 25,
   "metadata": {},
   "outputs": [
    {
     "data": {
      "text/plain": [
       "70"
      ]
     },
     "execution_count": 25,
     "metadata": {},
     "output_type": "execute_result"
    }
   ],
   "source": [
    "len(data_0['day'])"
   ]
  },
  {
   "cell_type": "code",
   "execution_count": 26,
   "metadata": {},
   "outputs": [
    {
     "data": {
      "text/html": [
       "<div>\n",
       "<style scoped>\n",
       "    .dataframe tbody tr th:only-of-type {\n",
       "        vertical-align: middle;\n",
       "    }\n",
       "\n",
       "    .dataframe tbody tr th {\n",
       "        vertical-align: top;\n",
       "    }\n",
       "\n",
       "    .dataframe thead th {\n",
       "        text-align: right;\n",
       "    }\n",
       "</style>\n",
       "<table border=\"1\" class=\"dataframe\">\n",
       "  <thead>\n",
       "    <tr style=\"text-align: right;\">\n",
       "      <th></th>\n",
       "      <th>0</th>\n",
       "      <th>value</th>\n",
       "      <th>Afghanistan</th>\n",
       "      <th>day</th>\n",
       "    </tr>\n",
       "  </thead>\n",
       "  <tbody>\n",
       "    <tr>\n",
       "      <th>1/22/20</th>\n",
       "      <td>NaN</td>\n",
       "      <td>NaN</td>\n",
       "      <td>0</td>\n",
       "      <td>0</td>\n",
       "    </tr>\n",
       "    <tr>\n",
       "      <th>1/23/20</th>\n",
       "      <td>NaN</td>\n",
       "      <td>NaN</td>\n",
       "      <td>0</td>\n",
       "      <td>1</td>\n",
       "    </tr>\n",
       "    <tr>\n",
       "      <th>1/24/20</th>\n",
       "      <td>NaN</td>\n",
       "      <td>NaN</td>\n",
       "      <td>0</td>\n",
       "      <td>2</td>\n",
       "    </tr>\n",
       "    <tr>\n",
       "      <th>1/25/20</th>\n",
       "      <td>NaN</td>\n",
       "      <td>NaN</td>\n",
       "      <td>0</td>\n",
       "      <td>3</td>\n",
       "    </tr>\n",
       "    <tr>\n",
       "      <th>1/26/20</th>\n",
       "      <td>NaN</td>\n",
       "      <td>NaN</td>\n",
       "      <td>0</td>\n",
       "      <td>4</td>\n",
       "    </tr>\n",
       "    <tr>\n",
       "      <th>...</th>\n",
       "      <td>...</td>\n",
       "      <td>...</td>\n",
       "      <td>...</td>\n",
       "      <td>...</td>\n",
       "    </tr>\n",
       "    <tr>\n",
       "      <th>3/27/20</th>\n",
       "      <td>NaN</td>\n",
       "      <td>NaN</td>\n",
       "      <td>1.02753e-07</td>\n",
       "      <td>65</td>\n",
       "    </tr>\n",
       "    <tr>\n",
       "      <th>3/28/20</th>\n",
       "      <td>NaN</td>\n",
       "      <td>NaN</td>\n",
       "      <td>1.02753e-07</td>\n",
       "      <td>66</td>\n",
       "    </tr>\n",
       "    <tr>\n",
       "      <th>3/29/20</th>\n",
       "      <td>NaN</td>\n",
       "      <td>NaN</td>\n",
       "      <td>1.02753e-07</td>\n",
       "      <td>67</td>\n",
       "    </tr>\n",
       "    <tr>\n",
       "      <th>3/30/20</th>\n",
       "      <td>NaN</td>\n",
       "      <td>NaN</td>\n",
       "      <td>1.02753e-07</td>\n",
       "      <td>68</td>\n",
       "    </tr>\n",
       "    <tr>\n",
       "      <th>3/31/20</th>\n",
       "      <td>NaN</td>\n",
       "      <td>NaN</td>\n",
       "      <td>1.02753e-07</td>\n",
       "      <td>69</td>\n",
       "    </tr>\n",
       "  </tbody>\n",
       "</table>\n",
       "<p>70 rows × 4 columns</p>\n",
       "</div>"
      ],
      "text/plain": [
       "           0 value  Afghanistan  day\n",
       "1/22/20  NaN   NaN            0    0\n",
       "1/23/20  NaN   NaN            0    1\n",
       "1/24/20  NaN   NaN            0    2\n",
       "1/25/20  NaN   NaN            0    3\n",
       "1/26/20  NaN   NaN            0    4\n",
       "...      ...   ...          ...  ...\n",
       "3/27/20  NaN   NaN  1.02753e-07   65\n",
       "3/28/20  NaN   NaN  1.02753e-07   66\n",
       "3/29/20  NaN   NaN  1.02753e-07   67\n",
       "3/30/20  NaN   NaN  1.02753e-07   68\n",
       "3/31/20  NaN   NaN  1.02753e-07   69\n",
       "\n",
       "[70 rows x 4 columns]"
      ]
     },
     "execution_count": 26,
     "metadata": {},
     "output_type": "execute_result"
    }
   ],
   "source": [
    "data_0"
   ]
  },
  {
   "cell_type": "code",
   "execution_count": 27,
   "metadata": {},
   "outputs": [
    {
     "name": "stderr",
     "output_type": "stream",
     "text": [
      "/usr/local/lib/python3.6/dist-packages/ipykernel_launcher.py:5: SettingWithCopyWarning: \n",
      "A value is trying to be set on a copy of a slice from a DataFrame\n",
      "\n",
      "See the caveats in the documentation: https://pandas.pydata.org/pandas-docs/stable/user_guide/indexing.html#returning-a-view-versus-a-copy\n",
      "  \"\"\"\n"
     ]
    },
    {
     "name": "stdout",
     "output_type": "stream",
     "text": [
      "-- Congo (Brazzaville) --\n",
      "-- Congo (Kinshasa) --\n",
      "-- Diamond Princess --\n",
      "-- Saint Vincent and the Grenadines --\n",
      "-- West Bank and Gaza --\n",
      "-- Saint Kitts and Nevis --\n",
      "-- Kosovo --\n",
      "-- Burma --\n",
      "-- MS Zaandam --\n"
     ]
    }
   ],
   "source": [
    "country2 = []\n",
    "error2 = []\n",
    "for i in country[1:]:    \n",
    "    df_1 = dd1.loc[lambda df: df['Country/Region'] == i]\n",
    "    df_1.loc['value', :] = df_1.sum()\n",
    "\n",
    "    data_11 = df_1.T[4:]\n",
    "    data_11 = data_11.loc[lambda df: df['value'] >100]\n",
    "    try:\n",
    "        data_11[i] = data_11['value']/int(dd[i])\n",
    "    except:\n",
    "        print(\"--\",i,\"--\")\n",
    "        error2.append(i)\n",
    "        continue\n",
    "\n",
    "    data_1 = data_11\n",
    "    #data_1 = data_11.loc[lambda df: df[i] >10**-5]\n",
    "    data_1['day'] = [ j for j,ii in enumerate(data_1.index) ]\n",
    "    #data1['date'] = [ dateparse(j) for j in data1.index ]\n",
    "    if len(data_1['day'])>0:    \n",
    "        data_0 = data_0.merge(data_1, how='outer', on='day')\n",
    "        country2.append(i)"
   ]
  },
  {
   "cell_type": "code",
   "execution_count": null,
   "metadata": {},
   "outputs": [],
   "source": []
  },
  {
   "cell_type": "code",
   "execution_count": null,
   "metadata": {},
   "outputs": [],
   "source": []
  },
  {
   "cell_type": "code",
   "execution_count": 28,
   "metadata": {
    "scrolled": true
   },
   "outputs": [
    {
     "data": {
      "text/plain": [
       "['Austria',\n",
       " 'Belgium',\n",
       " 'Brazil',\n",
       " 'Canada',\n",
       " 'China',\n",
       " 'France',\n",
       " 'Germany',\n",
       " 'Indonesia',\n",
       " 'Iran',\n",
       " 'Italy',\n",
       " 'Korea, South',\n",
       " 'Netherlands',\n",
       " 'Portugal',\n",
       " 'Spain',\n",
       " 'Sweden',\n",
       " 'Switzerland',\n",
       " 'Turkey',\n",
       " 'United Kingdom',\n",
       " 'US']"
      ]
     },
     "execution_count": 28,
     "metadata": {},
     "output_type": "execute_result"
    }
   ],
   "source": [
    "country2"
   ]
  },
  {
   "cell_type": "code",
   "execution_count": 29,
   "metadata": {},
   "outputs": [],
   "source": [
    "df = data_0[country2[1:]+['day']]\n"
   ]
  },
  {
   "cell_type": "code",
   "execution_count": 30,
   "metadata": {},
   "outputs": [
    {
     "data": {
      "text/plain": [
       "Text(0, 0.5, 'deathed / population ')"
      ]
     },
     "execution_count": 30,
     "metadata": {},
     "output_type": "execute_result"
    },
    {
     "data": {
      "image/png": "[encoded data removed]",
      "text/plain": [
       "<Figure size 1080x720 with 1 Axes>"
      ]
     },
     "metadata": {},
     "output_type": "display_data"
    }
   ],
   "source": [
    "import matplotlib.pyplot as plt\n",
    "plt.rcParams['axes.facecolor']='white'\n",
    "plt.rcParams['savefig.facecolor']='white'\n",
    "plt.rcParams[\"figure.facecolor\"] = \"w\"\n",
    "\n",
    "\n",
    "fig, ax = plt.subplots(figsize=(15, 10))\n",
    "maker = [\"-.\",'-*','-v','-s','-o','-x',\"-^\"]\n",
    "\n",
    "for i,ii in enumerate(country2[1:]):\n",
    "    df.plot(ax=ax, x=\"day\",y=ii, style=maker[i%7])\n",
    "\n",
    "#ax.get_legend().remove()\n",
    "ax.grid(True)\n",
    "ax.set_yscale('log')\n",
    "#plt.text(30, 3*10**3, \"{}\".format(\"countries of over 1000 people as conformed\"), fontsize=12)\n",
    "ax.set_xlabel('day (0 means the first day as  100 < deathed )')\n",
    "ax.set_ylabel('deathed / population ')\n",
    "\n"
   ]
  },
  {
   "cell_type": "code",
   "execution_count": null,
   "metadata": {},
   "outputs": [],
   "source": []
  },
  {
   "cell_type": "code",
   "execution_count": null,
   "metadata": {},
   "outputs": [],
   "source": []
  },
  {
   "cell_type": "code",
   "execution_count": null,
   "metadata": {},
   "outputs": [],
   "source": []
  },
  {
   "cell_type": "code",
   "execution_count": null,
   "metadata": {},
   "outputs": [],
   "source": []
  },
  {
   "cell_type": "code",
   "execution_count": null,
   "metadata": {},
   "outputs": [],
   "source": []
  },
  {
   "cell_type": "code",
   "execution_count": null,
   "metadata": {},
   "outputs": [],
   "source": []
  },
  {
   "cell_type": "code",
   "execution_count": null,
   "metadata": {},
   "outputs": [],
   "source": []
  }
 ],
 "metadata": {
  "kernelspec": {
   "display_name": "Python 3",
   "language": "python",
   "name": "python3"
  },
  "language_info": {
   "codemirror_mode": {
    "name": "ipython",
    "version": 3
   },
   "file_extension": ".py",
   "mimetype": "text/x-python",
   "name": "python",
   "nbconvert_exporter": "python",
   "pygments_lexer": "ipython3",
   "version": "3.6.9"
  }
 },
 "nbformat": 4,
 "nbformat_minor": 2
}
